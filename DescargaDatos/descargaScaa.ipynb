{
 "cells": [
  {
   "attachments": {},
   "cell_type": "markdown",
   "metadata": {},
   "source": [
    "# Importar Librerias"
   ]
  },
  {
   "cell_type": "code",
   "execution_count": 1,
   "metadata": {},
   "outputs": [],
   "source": [
    "import pandas as pd\n",
    "import matplotlib.pyplot as plt\n",
    "import seaborn as sns\n",
    "from matplotlib.backends.backend_pdf import PdfPages as pdf\n",
    "import numpy as np\n",
    "import win32com.client as win32\n",
    "import sys\n",
    "import requests \n",
    "import urllib.request\n",
    "import json\n",
    "import importlib\n",
    "import os\n",
    "import datetime as dt\n",
    "import OleFileIO_PL\n",
    "import xlrd\n",
    "\n",
    "base_path = os.getcwd()\n",
    "sys.path.append(base_path + '//..')\n",
    "\n",
    "import Cumminsaceite as cu\n",
    "#connection=cu.Connection('camilo.rodriguez.lazo@cummins.cl','camilo2021')\n",
    "connection=cu.Connection(\"mauricio.vera@cummins.cl\",\"ctJy.S8Juq8F\")##Agregar usuario y clave\n",
    "# connection=cu.Connection('wilson.soriano@cummins.cl','N<46MfH~-MrF')\n",
    "connection.getToken()\n",
    "\n",
    "import warnings\n",
    "warnings.simplefilter(action='ignore', category=FutureWarning)"
   ]
  },
  {
   "attachments": {},
   "cell_type": "markdown",
   "metadata": {},
   "source": [
    "# Utilidades"
   ]
  },
  {
   "cell_type": "code",
   "execution_count": 2,
   "metadata": {},
   "outputs": [],
   "source": [
    "def ruta_descarga(idFaena, desde,hasta):\n",
    "    # Descarga de pagina Scaa (datos mas recientes)\n",
    "    # https://scaaweb.komatsu.cl/generahistorico_faena.php?faena=11&desde=01/01/2023&hasta=10/01/2023&flota=-1&alerta=1&componente=M09\n",
    "    return \"https://scaaweb.komatsu.cl/generahistorico_faena.php?faena=\" + idFaena + \"&desde=\" + desde +\"&hasta=\" +hasta + \"&flota=-1&alerta=1&componente=M09\""
   ]
  },
  {
   "attachments": {},
   "cell_type": "markdown",
   "metadata": {},
   "source": [
    "# Parametros"
   ]
  },
  {
   "cell_type": "code",
   "execution_count": 3,
   "metadata": {},
   "outputs": [],
   "source": [
    "# Se guardara en la carpeta '02_Archivos' \n",
    "carpeta_scaa = 'DatosScaa'\n",
    "carpeta_limites = 'DatosLimites'\n",
    "\n",
    "# Fechas de descarga de datos\n",
    "desde = '01/01/2023'\n",
    "hasta = dt.date.today().strftime('%d/%m/%Y')\n",
    "\n",
    "config_path = '..\\\\'\n",
    "\n",
    "carpeta_scaa = os.path.abspath(base_path + '/../../02_Archivos/' + carpeta_scaa)\n",
    "carpeta_limites = os.path.abspath(base_path + '/../../02_Archivos/' + carpeta_limites)\n",
    "\n",
    "if carpeta_scaa:\n",
    "        # carpeta_guardado = carpeta_guardado + '\\\\'\n",
    "        # directory = save_path + '\\\\' + carpeta_guardado \n",
    "        if not os.path.exists(carpeta_scaa):\n",
    "            os.makedirs(carpeta_scaa)\n",
    "\n",
    "horometro_path = 'Z:\\\\Share_DCC$\\\\Ingenieria y Procesos\\\\Bases de datos\\\\HOROMETRO\\\\consolidado_horometro.csv'\n",
    "nomenclatura_path = \"\"\n",
    "\n",
    "\n",
    "\n",
    "\n"
   ]
  },
  {
   "attachments": {},
   "cell_type": "markdown",
   "metadata": {},
   "source": [
    "## Limites Condenatorios"
   ]
  },
  {
   "cell_type": "code",
   "execution_count": 4,
   "metadata": {},
   "outputs": [],
   "source": [
    "# leer unidades de elementos\n",
    "f = open(carpeta_limites +'\\\\unidades.json')\n",
    "unidades = json.load(f)\n",
    "f.close()"
   ]
  },
  {
   "cell_type": "code",
   "execution_count": 5,
   "metadata": {},
   "outputs": [],
   "source": [
    "# Leer limites condenatorios\n",
    "limites = pd.read_csv(carpeta_limites +'\\\\limites.csv')"
   ]
  },
  {
   "attachments": {},
   "cell_type": "markdown",
   "metadata": {},
   "source": [
    "## Datos SCAA"
   ]
  },
  {
   "cell_type": "code",
   "execution_count": 6,
   "metadata": {},
   "outputs": [],
   "source": [
    "f = open(config_path +'config.json')\n",
    "config = json.load(f)\n",
    "f.close()"
   ]
  },
  {
   "cell_type": "code",
   "execution_count": 7,
   "metadata": {},
   "outputs": [
    {
     "name": "stdout",
     "output_type": "stream",
     "text": [
      "faenas {'Andina': 11, 'Antucoya': 124, 'Caserones': 67, 'Cerro Negro Norte': 66, 'Lomas Bayas': 27, 'Los Pelambres': 15, 'Collahuasi': 14, 'Chuquicamata': 13, 'Gaby': 53, 'Ministro Hales': 63, 'Esperanza': 121, 'Esperanza Sur': 127, 'Qblanca': 16, 'Radomiro Tomic': 18, 'Sierra Gorda': 65, 'SPENCE': 125}\n",
      "updates {'last_date_scaa': '27/06/2023'}\n"
     ]
    }
   ],
   "source": [
    "for i,(faena, indice) in enumerate(config.items()):\n",
    "    print(faena, indice)"
   ]
  },
  {
   "cell_type": "code",
   "execution_count": 8,
   "metadata": {},
   "outputs": [
    {
     "ename": "KeyError",
     "evalue": "'Cerro Negro Norte'",
     "output_type": "error",
     "traceback": [
      "\u001b[1;31m---------------------------------------------------------------------------\u001b[0m",
      "\u001b[1;31mKeyError\u001b[0m                                  Traceback (most recent call last)",
      "Cell \u001b[1;32mIn[8], line 4\u001b[0m\n\u001b[0;32m      1\u001b[0m \u001b[39mfor\u001b[39;00m i,faena \u001b[39min\u001b[39;00m \u001b[39menumerate\u001b[39m([\u001b[39m'\u001b[39m\u001b[39mCerro Negro Norte\u001b[39m\u001b[39m'\u001b[39m,\u001b[39m'\u001b[39m\u001b[39mLomas Bayas\u001b[39m\u001b[39m'\u001b[39m]):\n\u001b[0;32m      2\u001b[0m \n\u001b[0;32m      3\u001b[0m     \u001b[39m# Extraccion datos de plataforma scaa\u001b[39;00m\n\u001b[1;32m----> 4\u001b[0m     fG \u001b[39m=\u001b[39m urllib\u001b[39m.\u001b[39mrequest\u001b[39m.\u001b[39murlopen(ruta_descarga(\u001b[39mstr\u001b[39m(config[faena]),desde, hasta))\n\u001b[0;32m      6\u001b[0m     \u001b[39m# Guardado de datos en archivo excel\u001b[39;00m\n\u001b[0;32m      7\u001b[0m     fichero \u001b[39m=\u001b[39m \u001b[39mopen\u001b[39m(carpeta_scaa \u001b[39m+\u001b[39m \u001b[39m'\u001b[39m\u001b[39m\\\\\u001b[39;00m\u001b[39mtemp.xls\u001b[39m\u001b[39m'\u001b[39m,\u001b[39m\"\u001b[39m\u001b[39mwb+\u001b[39m\u001b[39m\"\u001b[39m)\n",
      "\u001b[1;31mKeyError\u001b[0m: 'Cerro Negro Norte'"
     ]
    }
   ],
   "source": [
    "\n",
    "for i,faena in enumerate(['Cerro Negro Norte','Lomas Bayas']):\n",
    "\n",
    "    # Extraccion datos de plataforma scaa\n",
    "    fG = urllib.request.urlopen(ruta_descarga(str(config[faena]),desde, hasta))\n",
    "\n",
    "    # Guardado de datos en archivo excel\n",
    "    fichero = open(carpeta_scaa + '\\\\temp.xls',\"wb+\")\n",
    "    fichero.write(fG.read())\n",
    "    fichero.close()\n",
    "\n",
    "    # Abrir archivo excel descargado\n",
    "    scaa_temp = pd.read_excel(carpeta_scaa + '\\\\temp.xls', decimal=\",\", sheet_name=0, skiprows=3)\n",
    "    scaa_temp=scaa_temp.iloc[:,1:]\n",
    "\n",
    "    scaa_faena = scaa_temp.copy()\n",
    "\n",
    "    # Columnas a utilizar\n",
    "    scaa_faena = scaa_faena[['Nro.Muestra','Faena','Flota','Modelo','Equipo','Componente','Posición','Fecha Muestra','Horas Aceite',\n",
    "        'Fecha Cambio Aceite','Intervalo Cambio de Aceite','Desviación en mantención','Visc.40','Visc 100', \n",
    "        'Diluc.','Agua','TBN','Hollin','Oxid.','Nitrac.','Sulf.','Ind.PQ.','AL','B','CA','CR','CU',\n",
    "        'FE','K','MG','MO','NA','NI','P','PB','SI','SN','ZN','Detalle Alerta','Respuesta Alerta']]\n",
    "    # filtro motores diesel\n",
    "    scaa_faena = scaa_faena[scaa_faena.Componente =='Motor Diesel']\n",
    "    scaa_faena.drop(columns=['Componente'],inplace=True)\n",
    "    \n",
    "    # crear tabla consolidada de scaa\n",
    "    if i == 0:\n",
    "        consolidado_scaa = scaa_faena.copy()\n",
    "    else:\n",
    "        consolidado_scaa = pd.concat([consolidado_scaa, scaa_faena], ignore_index=True, sort=False)\n"
   ]
  },
  {
   "cell_type": "code",
   "execution_count": null,
   "metadata": {},
   "outputs": [],
   "source": [
    "consolidado_scaa.to_excel(carpeta_scaa + '\\\\consolidado_scaa_subgrupo.xlsx')"
   ]
  },
  {
   "cell_type": "code",
   "execution_count": null,
   "metadata": {},
   "outputs": [],
   "source": [
    "import  aspose.cells \n",
    "from aspose.cells import Workbook\n",
    "workbook = Workbook(carpeta_scaa + '\\\\temp.xls')\n",
    "workbook.save(carpeta_scaa + '\\\\temp2.xls')"
   ]
  }
 ],
 "metadata": {
  "kernelspec": {
   "display_name": "Python 3",
   "language": "python",
   "name": "python3"
  },
  "language_info": {
   "codemirror_mode": {
    "name": "ipython",
    "version": 3
   },
   "file_extension": ".py",
   "mimetype": "text/x-python",
   "name": "python",
   "nbconvert_exporter": "python",
   "pygments_lexer": "ipython3",
   "version": "3.11.3"
  },
  "orig_nbformat": 4
 },
 "nbformat": 4,
 "nbformat_minor": 2
}
