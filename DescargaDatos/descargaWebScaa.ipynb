{
 "cells": [
  {
   "attachments": {},
   "cell_type": "markdown",
   "metadata": {},
   "source": [
    "# Opcion descargar data de cierta faena\n",
    "\n",
    "Si scaa actualiza una muestra, tiene que actualizarse con la fecha de la fecha muestra, por lo que tiene que haber un gap"
   ]
  },
  {
   "cell_type": "code",
   "execution_count": 76,
   "metadata": {},
   "outputs": [],
   "source": [
    "import pandas as pd\n",
    "import numpy as np\n",
    "\n",
    "import matplotlib.pyplot as plt\n",
    "import seaborn as sns\n",
    "\n",
    "import sys\n",
    "from tqdm import tqdm\n",
    "import requests\n",
    "import json\n",
    "import importlib\n",
    "import os\n",
    "import datetime as dt\n",
    "import xlrd\n",
    "\n",
    "ruta_archivo = os.getcwd()\n",
    "ruta_base =os.path.dirname(ruta_archivo)\n",
    "\n",
    "sys.path.append(ruta_base)\n",
    "\n",
    "import warnings\n",
    "warnings.simplefilter(action='ignore', category=FutureWarning)\n",
    "\n",
    "with open(ruta_base +'//config.json', \"r\") as configFile:\n",
    "    config = json.load(configFile)\n",
    "\n",
    "# faenas\n",
    "faenas = config['faenas']\n",
    "\n",
    "# Actualizaciones\n",
    "updates = config['updates']"
   ]
  },
  {
   "attachments": {},
   "cell_type": "markdown",
   "metadata": {},
   "source": [
    "## Parametros"
   ]
  },
  {
   "cell_type": "code",
   "execution_count": 77,
   "metadata": {},
   "outputs": [],
   "source": [
    "# Se guardara en la carpeta '02_Archivos' \n",
    "carpeta_scaa = 'DatosScaa'\n",
    "carpeta_limites = 'DatosLimites'\n",
    "\n",
    "hoy = dt.date.today()\n",
    "\n",
    "fecha_actualizar = updates['last_date_scaa']\n",
    "fecha_actualizar = dt.datetime.strptime(fecha_actualizar, '%d/%m/%Y').date()\n",
    "# hasta = '01/03/2023'\n",
    "intervalo = 20 # dias\n",
    "# intervalo en dias"
   ]
  },
  {
   "cell_type": "code",
   "execution_count": 78,
   "metadata": {},
   "outputs": [],
   "source": [
    "hasta = hoy.strftime('%d/%m/%Y')\n",
    "\n",
    "\n",
    "\n",
    "fecha_intervalo =  (hoy- dt.timedelta(intervalo))\n",
    "\n",
    "# Excel opcional con los datos mas recientes\n",
    "desde_actual = '2020-01-01'"
   ]
  },
  {
   "cell_type": "code",
   "execution_count": 79,
   "metadata": {},
   "outputs": [],
   "source": [
    "desde = min(fecha_actualizar,fecha_intervalo).strftime('%d/%m/%Y')"
   ]
  },
  {
   "cell_type": "code",
   "execution_count": 80,
   "metadata": {},
   "outputs": [],
   "source": [
    "# Fechas de descarga de datos\n",
    "# Datos desde 2013\n",
    "# desde = '01/01/2013'\n",
    "# hasta = '01/01/2014'\n",
    "\n",
    "desde = '01/01/2020'\n",
    "hasta = '01/01/2021'\n"
   ]
  },
  {
   "cell_type": "code",
   "execution_count": null,
   "metadata": {},
   "outputs": [],
   "source": []
  },
  {
   "attachments": {},
   "cell_type": "markdown",
   "metadata": {},
   "source": [
    "## Utilities"
   ]
  },
  {
   "cell_type": "code",
   "execution_count": 81,
   "metadata": {},
   "outputs": [],
   "source": [
    "def ruta_descarga(faena,desde,hasta):\n",
    "    # Descarga de pagina Scaa (datos mas recientes)\n",
    "    # https://scaaweb.komatsu.cl/generahistorico_faena.php?faena=11&desde=01/01/2023&hasta=10/01/2023&flota=-1&alerta=1&componente=M09\n",
    "    return \"https://scaaweb.komatsu.cl/generahistorico_faena.php?faena=\"+ faena + \"&desde=\" + desde +\"&hasta=\" +hasta + \"&flota=-1&alerta=1&componente=M09\"\n",
    "\n",
    "def si_carpeta(carpeta):\n",
    "    guardar_carpeta = os.path.abspath(carpeta)\n",
    "    # directory = save_path + '\\\\' + carpeta_guardado \n",
    "    if not os.path.exists(guardar_carpeta):\n",
    "        os.makedirs(guardar_carpeta)"
   ]
  },
  {
   "cell_type": "code",
   "execution_count": 82,
   "metadata": {},
   "outputs": [],
   "source": [
    "# direccion de archivos\n",
    "archivos_scaa = ruta_base + '/../02_Archivos/' + carpeta_scaa\n",
    "archivos_temp = archivos_scaa + '/temps'\n",
    "archivos_limites = ruta_base + '/../02_Archivos/' + carpeta_limites\n",
    "\n",
    "si_carpeta(archivos_scaa)\n",
    "si_carpeta(archivos_temp)\n",
    "si_carpeta(archivos_limites)"
   ]
  },
  {
   "cell_type": "code",
   "execution_count": 83,
   "metadata": {},
   "outputs": [],
   "source": [
    "block_size = 1024 #1 Kibibyte\n",
    "\n",
    "temp_name = 'temp'\n",
    "\n",
    "# cabezal del metodo get\n",
    "headers = {'User-Agent': 'Mozilla/5.0',\n",
    "            'Connection': 'keep-alive',\n",
    "            'Host': 'scaaweb.komatsu.cl'}"
   ]
  },
  {
   "cell_type": "code",
   "execution_count": 84,
   "metadata": {},
   "outputs": [
    {
     "name": "stdout",
     "output_type": "stream",
     "text": [
      "Andina: https://scaaweb.komatsu.cl/generahistorico_faena.php?faena=11&desde=01/01/2020&hasta=01/01/2021&flota=-1&alerta=1&componente=M09\n"
     ]
    },
    {
     "name": "stderr",
     "output_type": "stream",
     "text": [
      "5.76MiB [00:22, 256kiB/s] \n"
     ]
    },
    {
     "name": "stdout",
     "output_type": "stream",
     "text": [
      "Antucoya: https://scaaweb.komatsu.cl/generahistorico_faena.php?faena=124&desde=01/01/2020&hasta=01/01/2021&flota=-1&alerta=1&componente=M09\n"
     ]
    },
    {
     "name": "stderr",
     "output_type": "stream",
     "text": [
      "100%|██████████| 2.20M/2.20M [00:12<00:00, 182kiB/s]\n"
     ]
    },
    {
     "name": "stdout",
     "output_type": "stream",
     "text": [
      "Caserones: https://scaaweb.komatsu.cl/generahistorico_faena.php?faena=67&desde=01/01/2020&hasta=01/01/2021&flota=-1&alerta=1&componente=M09\n"
     ]
    },
    {
     "name": "stderr",
     "output_type": "stream",
     "text": [
      "6.39MiB [00:19, 325kiB/s] \n"
     ]
    },
    {
     "name": "stdout",
     "output_type": "stream",
     "text": [
      "Cerro Negro Norte: https://scaaweb.komatsu.cl/generahistorico_faena.php?faena=66&desde=01/01/2020&hasta=01/01/2021&flota=-1&alerta=1&componente=M09\n"
     ]
    },
    {
     "name": "stderr",
     "output_type": "stream",
     "text": [
      "100%|██████████| 2.09M/2.09M [00:01<00:00, 1.31MiB/s]\n"
     ]
    },
    {
     "name": "stdout",
     "output_type": "stream",
     "text": [
      "Lomas Bayas: https://scaaweb.komatsu.cl/generahistorico_faena.php?faena=27&desde=01/01/2020&hasta=01/01/2021&flota=-1&alerta=1&componente=M09\n"
     ]
    },
    {
     "name": "stderr",
     "output_type": "stream",
     "text": [
      "100%|██████████| 20.5k/20.5k [00:00<00:00, 104kiB/s] \n"
     ]
    },
    {
     "name": "stdout",
     "output_type": "stream",
     "text": [
      "Los Pelambres: https://scaaweb.komatsu.cl/generahistorico_faena.php?faena=15&desde=01/01/2020&hasta=01/01/2021&flota=-1&alerta=1&componente=M09\n"
     ]
    },
    {
     "name": "stderr",
     "output_type": "stream",
     "text": [
      "7.82MiB [00:08, 949kiB/s] \n"
     ]
    },
    {
     "name": "stdout",
     "output_type": "stream",
     "text": [
      "Collahuasi: https://scaaweb.komatsu.cl/generahistorico_faena.php?faena=14&desde=01/01/2020&hasta=01/01/2021&flota=-1&alerta=1&componente=M09\n"
     ]
    },
    {
     "name": "stderr",
     "output_type": "stream",
     "text": [
      "18.1MiB [00:19, 921kiB/s] \n"
     ]
    },
    {
     "name": "stdout",
     "output_type": "stream",
     "text": [
      "Chuquicamata: https://scaaweb.komatsu.cl/generahistorico_faena.php?faena=13&desde=01/01/2020&hasta=01/01/2021&flota=-1&alerta=1&componente=M09\n"
     ]
    },
    {
     "name": "stderr",
     "output_type": "stream",
     "text": [
      "100%|██████████| 613k/613k [00:01<00:00, 553kiB/s]  \n"
     ]
    },
    {
     "name": "stdout",
     "output_type": "stream",
     "text": [
      "Gaby: https://scaaweb.komatsu.cl/generahistorico_faena.php?faena=53&desde=01/01/2020&hasta=01/01/2021&flota=-1&alerta=1&componente=M09\n"
     ]
    },
    {
     "name": "stderr",
     "output_type": "stream",
     "text": [
      "4.55MiB [00:04, 1.09MiB/s]\n"
     ]
    },
    {
     "name": "stdout",
     "output_type": "stream",
     "text": [
      "Ministro Hales: https://scaaweb.komatsu.cl/generahistorico_faena.php?faena=63&desde=01/01/2020&hasta=01/01/2021&flota=-1&alerta=1&componente=M09\n"
     ]
    },
    {
     "name": "stderr",
     "output_type": "stream",
     "text": [
      "100%|██████████| 2.30M/2.30M [00:01<00:00, 1.38MiB/s]\n"
     ]
    },
    {
     "name": "stdout",
     "output_type": "stream",
     "text": [
      "Esperanza: https://scaaweb.komatsu.cl/generahistorico_faena.php?faena=121&desde=01/01/2020&hasta=01/01/2021&flota=-1&alerta=1&componente=M09\n"
     ]
    },
    {
     "name": "stderr",
     "output_type": "stream",
     "text": [
      "100%|██████████| 2.29M/2.29M [00:03<00:00, 629kiB/s] \n"
     ]
    },
    {
     "name": "stdout",
     "output_type": "stream",
     "text": [
      "Esperanza Sur: https://scaaweb.komatsu.cl/generahistorico_faena.php?faena=127&desde=01/01/2020&hasta=01/01/2021&flota=-1&alerta=1&componente=M09\n"
     ]
    },
    {
     "name": "stderr",
     "output_type": "stream",
     "text": [
      "100%|██████████| 3.58k/3.58k [00:00<00:00, 168kiB/s]\n"
     ]
    },
    {
     "name": "stdout",
     "output_type": "stream",
     "text": [
      "Qblanca: https://scaaweb.komatsu.cl/generahistorico_faena.php?faena=16&desde=01/01/2020&hasta=01/01/2021&flota=-1&alerta=1&componente=M09\n"
     ]
    },
    {
     "name": "stderr",
     "output_type": "stream",
     "text": [
      "100%|██████████| 2.98M/2.98M [00:03<00:00, 774kiB/s] \n"
     ]
    },
    {
     "name": "stdout",
     "output_type": "stream",
     "text": [
      "Radomiro Tomic: https://scaaweb.komatsu.cl/generahistorico_faena.php?faena=18&desde=01/01/2020&hasta=01/01/2021&flota=-1&alerta=1&componente=M09\n"
     ]
    },
    {
     "name": "stderr",
     "output_type": "stream",
     "text": [
      "11.2MiB [00:06, 1.62MiB/s]\n"
     ]
    },
    {
     "name": "stdout",
     "output_type": "stream",
     "text": [
      "Sierra Gorda: https://scaaweb.komatsu.cl/generahistorico_faena.php?faena=65&desde=01/01/2020&hasta=01/01/2021&flota=-1&alerta=1&componente=M09\n"
     ]
    },
    {
     "name": "stderr",
     "output_type": "stream",
     "text": [
      "14.4MiB [00:47, 304kiB/s] \n"
     ]
    },
    {
     "name": "stdout",
     "output_type": "stream",
     "text": [
      "SPENCE: https://scaaweb.komatsu.cl/generahistorico_faena.php?faena=125&desde=01/01/2020&hasta=01/01/2021&flota=-1&alerta=1&componente=M09\n"
     ]
    },
    {
     "name": "stderr",
     "output_type": "stream",
     "text": [
      "100%|██████████| 1.54M/1.54M [00:01<00:00, 1.05MiB/s]\n"
     ]
    }
   ],
   "source": [
    "# request para obtener las cookies\n",
    "r1 = requests.post('https://scaaweb.komatsu.cl/insert.php')\n",
    "timeout = 60*5\n",
    "\n",
    "for i,(faena, id_faena) in enumerate(faenas.items()):\n",
    "    # if faena in ['Chuquicamata']: #\n",
    "    # ['Los Pelambres', 'Andina', 'Radomiro Tomic', 'Cerro Negro Norte','Sierra Gorda', 'Gaby', 'Quebrada Blanca', 'Collahuasi', 'Caserones',\n",
    "    # 'Ministro Hales', 'Chuquicamata', 'Antucoya','SPENCE', 'Lomas Bayas', 'Centinela']\n",
    "        url = ruta_descarga(str(id_faena),desde, hasta)\n",
    "        print(faena + ': ' + url)\n",
    "        # Streaming, so we can iterate over the response.\n",
    "        try:\n",
    "            response = requests.get(url,headers=headers, stream=True,cookies=r1.cookies, timeout=timeout)\n",
    "\n",
    "            total_size_in_bytes= int(response.headers.get('content-length', 0))\n",
    "\n",
    "            progress_bar = tqdm(total=total_size_in_bytes, unit='iB', unit_scale=True)\n",
    "            with open(archivos_temp + '/' + temp_name + '_' + faena + '.xls',\"wb+\") as file:\n",
    "                for data in response.iter_content(block_size):\n",
    "                    progress_bar.update(len(data))\n",
    "                    file.write(data)\n",
    "            progress_bar.close()\n",
    "            if total_size_in_bytes != 0 and progress_bar.n != total_size_in_bytes:\n",
    "                print(\"ERROR, something went wrong\")\n",
    "        except requests.exceptions.Timeout:\n",
    "            print('The request timed out')\n",
    "            print('ERROR')"
   ]
  },
  {
   "cell_type": "code",
   "execution_count": 85,
   "metadata": {},
   "outputs": [],
   "source": [
    "import glob\n",
    "\n",
    "temps = glob.glob(os.path.join(archivos_temp, \"*.xls\"))\n",
    "\n",
    "df_consolidado = pd.read_csv(archivos_scaa + '/consolidado_scaa.csv', index_col='Nro.Muestra')\n",
    "df_consolidado['Fecha Muestra'] = pd.to_datetime(df_consolidado['Fecha Muestra'])\n",
    "df_consolidado['Fecha Cambio Aceite'] = pd.to_datetime(df_consolidado['Fecha Cambio Aceite'])\n",
    "df_consolidado['Fecha Analisis'] = pd.to_datetime(df_consolidado['Fecha Analisis'])\n",
    "# df_consolidado['Fecha Muestra'] = pd.to_datetime(df_consolidado['Fecha Muestra'],format='%d/%m/%Y')"
   ]
  },
  {
   "cell_type": "code",
   "execution_count": 86,
   "metadata": {},
   "outputs": [
    {
     "name": "stdout",
     "output_type": "stream",
     "text": [
      "WARNING *** OLE2 inconsistency: SSCS size is 0 but SSAT size is non-zero\n",
      "WARNING *** OLE2 inconsistency: SSCS size is 0 but SSAT size is non-zero\n",
      "WARNING *** OLE2 inconsistency: SSCS size is 0 but SSAT size is non-zero\n",
      "WARNING *** OLE2 inconsistency: SSCS size is 0 but SSAT size is non-zero\n",
      "WARNING *** OLE2 inconsistency: SSCS size is 0 but SSAT size is non-zero\n",
      "WARNING *** OLE2 inconsistency: SSCS size is 0 but SSAT size is non-zero\n",
      "WARNING *** OLE2 inconsistency: SSCS size is 0 but SSAT size is non-zero\n",
      "WARNING *** OLE2 inconsistency: SSCS size is 0 but SSAT size is non-zero\n",
      "WARNING *** OLE2 inconsistency: SSCS size is 0 but SSAT size is non-zero\n",
      "WARNING *** OLE2 inconsistency: SSCS size is 0 but SSAT size is non-zero\n",
      "WARNING *** OLE2 inconsistency: SSCS size is 0 but SSAT size is non-zero\n",
      "WARNING *** OLE2 inconsistency: SSCS size is 0 but SSAT size is non-zero\n",
      "WARNING *** OLE2 inconsistency: SSCS size is 0 but SSAT size is non-zero\n",
      "WARNING *** OLE2 inconsistency: SSCS size is 0 but SSAT size is non-zero\n",
      "WARNING *** OLE2 inconsistency: SSCS size is 0 but SSAT size is non-zero\n"
     ]
    }
   ],
   "source": [
    "for f in temps:\n",
    "    xls_file = xlrd.open_workbook_xls(f, ignore_workbook_corruption=True, encoding_override=\"iso-8859-1\")\n",
    "    # read the csv file\n",
    "    df_faena = pd.read_excel(xls_file, decimal=\",\", sheet_name=0, skiprows=3)\n",
    "    # Columnas a utilizar\n",
    "    if not df_faena.empty:\n",
    "        df_faena = df_faena[['Nro.Muestra','Faena','Laboratorio','Modelo','Equipo','Componente','Posición','Fecha Muestra','Horas Aceite',\n",
    "            'Fecha Cambio Aceite','Fecha Analisis','Horas Aceite Actual','Horometro Cambio Aceite','Intervalo Cambio de Aceite','Desviación en mantención', \n",
    "            'Nombre Aceite','Visc.40', 'Visc 100', 'Pto.Infl.', 'Diluc.', 'Agua', 'TBN', 'TAN', 'Hollin', 'Oxid.','Nitrac.', 'Sulf.', \n",
    "            'Ind.PQ.', 'AG', 'AL', 'B','CA', 'CR', 'CU', 'FE',  'K', 'MG', 'MO', 'NA',\n",
    "            'NI', 'P', 'PB',  'SI', 'SN', 'TI', 'V', 'ZN','Detalle Alerta','Respuesta Alerta']]\n",
    "        df_faena.set_index('Nro.Muestra', inplace=True)\n",
    "        df_faena = df_faena[~df_faena.index.duplicated(keep='first')]\n",
    "        df_faena['Fecha Muestra'] = pd.to_datetime(df_faena['Fecha Muestra'],format='%d/%m/%Y')\n",
    "        df_faena['Fecha Cambio Aceite'] = pd.to_datetime(df_faena['Fecha Cambio Aceite'],format='%d/%m/%Y')\n",
    "        df_faena['Fecha Analisis'] = pd.to_datetime(df_faena['Fecha Analisis'],format='%d/%m/%Y')\n",
    "        df_faena['Alerta'] = (~df_faena['Detalle Alerta'].isna())*1\n",
    "        df_faena.drop(['Detalle Alerta'], axis=1, inplace=True)\n",
    "        df_faena['Modelo'] = df_faena.Modelo.str.replace(\"'\",\"\")\n",
    "        df_faena.rename(columns = {'Modelo':'Flota'}, inplace = True)\n",
    "        df_consolidado = df_consolidado.reindex(df_consolidado.index.union(df_faena.index))\n",
    "        df_consolidado.update(df_faena)\n",
    "    # df_consolidado = pd.concat([df_consolidado,df_faena])\n",
    "    # df_consolidado = df_consolidado.combine_first(df_faena)\n",
    "    # df_consolidado.update(df_faena)"
   ]
  },
  {
   "cell_type": "code",
   "execution_count": 87,
   "metadata": {},
   "outputs": [],
   "source": [
    "df_consolidado.to_csv(archivos_scaa + '/consolidado_scaa.csv')"
   ]
  },
  {
   "cell_type": "code",
   "execution_count": 88,
   "metadata": {},
   "outputs": [],
   "source": [
    "# format_desde = dt.datetime.strptime(desde, '%d/%m/%Y').date()\n",
    "\n",
    "updates['last_date_scaa'] = hoy.strftime('%d/%m/%Y')\n",
    "\n",
    "with open(ruta_base +'//config.json', \"w\") as configFile:\n",
    "    json.dump(config, configFile)"
   ]
  },
  {
   "cell_type": "code",
   "execution_count": 89,
   "metadata": {},
   "outputs": [],
   "source": [
    "# df_consolidado['Fecha Muestra'] = pd.to_datetime(df_consolidado['Fecha Muestra'],format='%d/%m/%Y')\n",
    "# filtro_fecha_scaa = (df_consolidado['Fecha Muestra'] > desde_actual) \n",
    "# df_consolidado_actual = df_consolidado[filtro_fecha_scaa]\n",
    "# df_consolidado_actual.to_excel(archivos_scaa + '/consolidado_scaa_actual.xlsx')"
   ]
  },
  {
   "cell_type": "code",
   "execution_count": 90,
   "metadata": {},
   "outputs": [
    {
     "data": {
      "text/html": [
       "<div>\n",
       "<style scoped>\n",
       "    .dataframe tbody tr th:only-of-type {\n",
       "        vertical-align: middle;\n",
       "    }\n",
       "\n",
       "    .dataframe tbody tr th {\n",
       "        vertical-align: top;\n",
       "    }\n",
       "\n",
       "    .dataframe thead th {\n",
       "        text-align: right;\n",
       "    }\n",
       "</style>\n",
       "<table border=\"1\" class=\"dataframe\">\n",
       "  <thead>\n",
       "    <tr style=\"text-align: right;\">\n",
       "      <th></th>\n",
       "      <th>Faena</th>\n",
       "      <th>Laboratorio</th>\n",
       "      <th>Flota</th>\n",
       "      <th>Equipo</th>\n",
       "      <th>Componente</th>\n",
       "      <th>Posición</th>\n",
       "      <th>Fecha Muestra</th>\n",
       "      <th>Horas Aceite</th>\n",
       "      <th>Fecha Cambio Aceite</th>\n",
       "      <th>Horas Aceite Actual</th>\n",
       "      <th>...</th>\n",
       "      <th>P</th>\n",
       "      <th>PB</th>\n",
       "      <th>SI</th>\n",
       "      <th>SN</th>\n",
       "      <th>TI</th>\n",
       "      <th>V</th>\n",
       "      <th>ZN</th>\n",
       "      <th>Respuesta Alerta</th>\n",
       "      <th>Alerta</th>\n",
       "      <th>Fecha Analisis</th>\n",
       "    </tr>\n",
       "    <tr>\n",
       "      <th>Nro.Muestra</th>\n",
       "      <th></th>\n",
       "      <th></th>\n",
       "      <th></th>\n",
       "      <th></th>\n",
       "      <th></th>\n",
       "      <th></th>\n",
       "      <th></th>\n",
       "      <th></th>\n",
       "      <th></th>\n",
       "      <th></th>\n",
       "      <th></th>\n",
       "      <th></th>\n",
       "      <th></th>\n",
       "      <th></th>\n",
       "      <th></th>\n",
       "      <th></th>\n",
       "      <th></th>\n",
       "      <th></th>\n",
       "      <th></th>\n",
       "      <th></th>\n",
       "      <th></th>\n",
       "    </tr>\n",
       "  </thead>\n",
       "  <tbody>\n",
       "    <tr>\n",
       "      <th>794064</th>\n",
       "      <td>Ministro Hales</td>\n",
       "      <td>DICTUC</td>\n",
       "      <td>930E-4</td>\n",
       "      <td>371</td>\n",
       "      <td>Motor Diesel</td>\n",
       "      <td>-----</td>\n",
       "      <td>2020-01-01</td>\n",
       "      <td>43805.0</td>\n",
       "      <td>2020-01-01</td>\n",
       "      <td>131.0</td>\n",
       "      <td>...</td>\n",
       "      <td>1185.00</td>\n",
       "      <td>1.7</td>\n",
       "      <td>8.00</td>\n",
       "      <td>0.10</td>\n",
       "      <td>0.0</td>\n",
       "      <td>0.1</td>\n",
       "      <td>1630.00</td>\n",
       "      <td>NaN</td>\n",
       "      <td>1.0</td>\n",
       "      <td>2020-01-04</td>\n",
       "    </tr>\n",
       "    <tr>\n",
       "      <th>794065</th>\n",
       "      <td>Ministro Hales</td>\n",
       "      <td>DICTUC</td>\n",
       "      <td>930E-4</td>\n",
       "      <td>372</td>\n",
       "      <td>Motor Diesel</td>\n",
       "      <td>-----</td>\n",
       "      <td>2020-01-02</td>\n",
       "      <td>1195.0</td>\n",
       "      <td>2019-10-13</td>\n",
       "      <td>251.0</td>\n",
       "      <td>...</td>\n",
       "      <td>1237.00</td>\n",
       "      <td>0.3</td>\n",
       "      <td>7.30</td>\n",
       "      <td>0.10</td>\n",
       "      <td>0.0</td>\n",
       "      <td>0.1</td>\n",
       "      <td>1553.00</td>\n",
       "      <td>NaN</td>\n",
       "      <td>0.0</td>\n",
       "      <td>2020-01-04</td>\n",
       "    </tr>\n",
       "    <tr>\n",
       "      <th>794066</th>\n",
       "      <td>Ministro Hales</td>\n",
       "      <td>DICTUC</td>\n",
       "      <td>930E-4</td>\n",
       "      <td>374</td>\n",
       "      <td>Motor Diesel</td>\n",
       "      <td>-----</td>\n",
       "      <td>2020-01-02</td>\n",
       "      <td>342.0</td>\n",
       "      <td>2019-12-08</td>\n",
       "      <td>475.0</td>\n",
       "      <td>...</td>\n",
       "      <td>1271.00</td>\n",
       "      <td>0.1</td>\n",
       "      <td>4.40</td>\n",
       "      <td>0.10</td>\n",
       "      <td>0.0</td>\n",
       "      <td>0.1</td>\n",
       "      <td>1554.00</td>\n",
       "      <td>NaN</td>\n",
       "      <td>1.0</td>\n",
       "      <td>2020-01-04</td>\n",
       "    </tr>\n",
       "    <tr>\n",
       "      <th>794067</th>\n",
       "      <td>Ministro Hales</td>\n",
       "      <td>DICTUC</td>\n",
       "      <td>930E-4</td>\n",
       "      <td>375</td>\n",
       "      <td>Motor Diesel</td>\n",
       "      <td>-----</td>\n",
       "      <td>2020-01-02</td>\n",
       "      <td>269.0</td>\n",
       "      <td>2019-12-17</td>\n",
       "      <td>55.0</td>\n",
       "      <td>...</td>\n",
       "      <td>1263.00</td>\n",
       "      <td>0.1</td>\n",
       "      <td>8.10</td>\n",
       "      <td>0.10</td>\n",
       "      <td>0.0</td>\n",
       "      <td>0.1</td>\n",
       "      <td>1554.00</td>\n",
       "      <td>NaN</td>\n",
       "      <td>0.0</td>\n",
       "      <td>2020-01-04</td>\n",
       "    </tr>\n",
       "    <tr>\n",
       "      <th>794068</th>\n",
       "      <td>Ministro Hales</td>\n",
       "      <td>DICTUC</td>\n",
       "      <td>930E-4</td>\n",
       "      <td>376</td>\n",
       "      <td>Motor Diesel</td>\n",
       "      <td>-----</td>\n",
       "      <td>2020-01-02</td>\n",
       "      <td>109.0</td>\n",
       "      <td>2019-12-22</td>\n",
       "      <td>0.0</td>\n",
       "      <td>...</td>\n",
       "      <td>1317.00</td>\n",
       "      <td>0.1</td>\n",
       "      <td>6.40</td>\n",
       "      <td>0.10</td>\n",
       "      <td>0.0</td>\n",
       "      <td>0.1</td>\n",
       "      <td>1651.00</td>\n",
       "      <td>NaN</td>\n",
       "      <td>0.0</td>\n",
       "      <td>2020-01-04</td>\n",
       "    </tr>\n",
       "    <tr>\n",
       "      <th>...</th>\n",
       "      <td>...</td>\n",
       "      <td>...</td>\n",
       "      <td>...</td>\n",
       "      <td>...</td>\n",
       "      <td>...</td>\n",
       "      <td>...</td>\n",
       "      <td>...</td>\n",
       "      <td>...</td>\n",
       "      <td>...</td>\n",
       "      <td>...</td>\n",
       "      <td>...</td>\n",
       "      <td>...</td>\n",
       "      <td>...</td>\n",
       "      <td>...</td>\n",
       "      <td>...</td>\n",
       "      <td>...</td>\n",
       "      <td>...</td>\n",
       "      <td>...</td>\n",
       "      <td>...</td>\n",
       "      <td>...</td>\n",
       "      <td>...</td>\n",
       "    </tr>\n",
       "    <tr>\n",
       "      <th>1028709</th>\n",
       "      <td>Ministro Hales</td>\n",
       "      <td>DICTUC</td>\n",
       "      <td>PC4000-6BHD</td>\n",
       "      <td>601.0</td>\n",
       "      <td>Mando Final</td>\n",
       "      <td>IZQ</td>\n",
       "      <td>2023-06-24</td>\n",
       "      <td>3444.0</td>\n",
       "      <td>2022-11-03</td>\n",
       "      <td>3444.0</td>\n",
       "      <td>...</td>\n",
       "      <td>305.07</td>\n",
       "      <td>0.0</td>\n",
       "      <td>21.05</td>\n",
       "      <td>0.00</td>\n",
       "      <td>0.0</td>\n",
       "      <td>0.0</td>\n",
       "      <td>23.56</td>\n",
       "      <td>NaN</td>\n",
       "      <td>1.0</td>\n",
       "      <td>2023-06-27</td>\n",
       "    </tr>\n",
       "    <tr>\n",
       "      <th>1028710</th>\n",
       "      <td>Ministro Hales</td>\n",
       "      <td>DICTUC</td>\n",
       "      <td>PC4000-6BHD</td>\n",
       "      <td>601.0</td>\n",
       "      <td>Sistema Hidraulico</td>\n",
       "      <td>-----</td>\n",
       "      <td>2023-06-24</td>\n",
       "      <td>14691.0</td>\n",
       "      <td>2020-08-15</td>\n",
       "      <td>14691.0</td>\n",
       "      <td>...</td>\n",
       "      <td>278.20</td>\n",
       "      <td>0.0</td>\n",
       "      <td>0.26</td>\n",
       "      <td>0.00</td>\n",
       "      <td>0.0</td>\n",
       "      <td>0.0</td>\n",
       "      <td>434.22</td>\n",
       "      <td>NaN</td>\n",
       "      <td>1.0</td>\n",
       "      <td>2023-06-27</td>\n",
       "    </tr>\n",
       "    <tr>\n",
       "      <th>1028711</th>\n",
       "      <td>Ministro Hales</td>\n",
       "      <td>DICTUC</td>\n",
       "      <td>PC4000-6BHD</td>\n",
       "      <td>601.0</td>\n",
       "      <td>Caja PTO Bomba</td>\n",
       "      <td>-----</td>\n",
       "      <td>2023-06-24</td>\n",
       "      <td>1469.0</td>\n",
       "      <td>2023-03-06</td>\n",
       "      <td>1469.0</td>\n",
       "      <td>...</td>\n",
       "      <td>272.64</td>\n",
       "      <td>0.0</td>\n",
       "      <td>20.21</td>\n",
       "      <td>0.00</td>\n",
       "      <td>0.0</td>\n",
       "      <td>0.0</td>\n",
       "      <td>4.83</td>\n",
       "      <td>NaN</td>\n",
       "      <td>0.0</td>\n",
       "      <td>2023-06-27</td>\n",
       "    </tr>\n",
       "    <tr>\n",
       "      <th>1028712</th>\n",
       "      <td>Ministro Hales</td>\n",
       "      <td>DICTUC</td>\n",
       "      <td>PC4000-6BHD</td>\n",
       "      <td>601.0</td>\n",
       "      <td>Reductor de Giro</td>\n",
       "      <td>DER</td>\n",
       "      <td>2023-06-24</td>\n",
       "      <td>3444.0</td>\n",
       "      <td>2022-11-03</td>\n",
       "      <td>3444.0</td>\n",
       "      <td>...</td>\n",
       "      <td>262.82</td>\n",
       "      <td>0.0</td>\n",
       "      <td>27.25</td>\n",
       "      <td>0.35</td>\n",
       "      <td>0.0</td>\n",
       "      <td>0.0</td>\n",
       "      <td>6.38</td>\n",
       "      <td>NaN</td>\n",
       "      <td>1.0</td>\n",
       "      <td>2023-06-27</td>\n",
       "    </tr>\n",
       "    <tr>\n",
       "      <th>1028713</th>\n",
       "      <td>Ministro Hales</td>\n",
       "      <td>DICTUC</td>\n",
       "      <td>PC4000-6BHD</td>\n",
       "      <td>601.0</td>\n",
       "      <td>Reductor de Giro</td>\n",
       "      <td>IZQ</td>\n",
       "      <td>2023-06-24</td>\n",
       "      <td>3066.0</td>\n",
       "      <td>2022-11-29</td>\n",
       "      <td>3066.0</td>\n",
       "      <td>...</td>\n",
       "      <td>284.08</td>\n",
       "      <td>0.0</td>\n",
       "      <td>21.62</td>\n",
       "      <td>0.00</td>\n",
       "      <td>0.0</td>\n",
       "      <td>0.0</td>\n",
       "      <td>1.46</td>\n",
       "      <td>NaN</td>\n",
       "      <td>0.0</td>\n",
       "      <td>2023-06-27</td>\n",
       "    </tr>\n",
       "  </tbody>\n",
       "</table>\n",
       "<p>5259 rows × 48 columns</p>\n",
       "</div>"
      ],
      "text/plain": [
       "                      Faena Laboratorio        Flota Equipo   \n",
       "Nro.Muestra                                                   \n",
       "794064       Ministro Hales      DICTUC       930E-4    371  \\\n",
       "794065       Ministro Hales      DICTUC       930E-4    372   \n",
       "794066       Ministro Hales      DICTUC       930E-4    374   \n",
       "794067       Ministro Hales      DICTUC       930E-4    375   \n",
       "794068       Ministro Hales      DICTUC       930E-4    376   \n",
       "...                     ...         ...          ...    ...   \n",
       "1028709      Ministro Hales      DICTUC  PC4000-6BHD  601.0   \n",
       "1028710      Ministro Hales      DICTUC  PC4000-6BHD  601.0   \n",
       "1028711      Ministro Hales      DICTUC  PC4000-6BHD  601.0   \n",
       "1028712      Ministro Hales      DICTUC  PC4000-6BHD  601.0   \n",
       "1028713      Ministro Hales      DICTUC  PC4000-6BHD  601.0   \n",
       "\n",
       "                     Componente Posición Fecha Muestra  Horas Aceite   \n",
       "Nro.Muestra                                                            \n",
       "794064             Motor Diesel    -----    2020-01-01       43805.0  \\\n",
       "794065             Motor Diesel    -----    2020-01-02        1195.0   \n",
       "794066             Motor Diesel    -----    2020-01-02         342.0   \n",
       "794067             Motor Diesel    -----    2020-01-02         269.0   \n",
       "794068             Motor Diesel    -----    2020-01-02         109.0   \n",
       "...                         ...      ...           ...           ...   \n",
       "1028709             Mando Final      IZQ    2023-06-24        3444.0   \n",
       "1028710      Sistema Hidraulico    -----    2023-06-24       14691.0   \n",
       "1028711          Caja PTO Bomba    -----    2023-06-24        1469.0   \n",
       "1028712        Reductor de Giro      DER    2023-06-24        3444.0   \n",
       "1028713        Reductor de Giro      IZQ    2023-06-24        3066.0   \n",
       "\n",
       "            Fecha Cambio Aceite  Horas Aceite Actual  ...        P   PB   \n",
       "Nro.Muestra                                           ...                 \n",
       "794064               2020-01-01                131.0  ...  1185.00  1.7  \\\n",
       "794065               2019-10-13                251.0  ...  1237.00  0.3   \n",
       "794066               2019-12-08                475.0  ...  1271.00  0.1   \n",
       "794067               2019-12-17                 55.0  ...  1263.00  0.1   \n",
       "794068               2019-12-22                  0.0  ...  1317.00  0.1   \n",
       "...                         ...                  ...  ...      ...  ...   \n",
       "1028709              2022-11-03               3444.0  ...   305.07  0.0   \n",
       "1028710              2020-08-15              14691.0  ...   278.20  0.0   \n",
       "1028711              2023-03-06               1469.0  ...   272.64  0.0   \n",
       "1028712              2022-11-03               3444.0  ...   262.82  0.0   \n",
       "1028713              2022-11-29               3066.0  ...   284.08  0.0   \n",
       "\n",
       "                SI    SN   TI    V       ZN  Respuesta Alerta  Alerta   \n",
       "Nro.Muestra                                                             \n",
       "794064        8.00  0.10  0.0  0.1  1630.00               NaN     1.0  \\\n",
       "794065        7.30  0.10  0.0  0.1  1553.00               NaN     0.0   \n",
       "794066        4.40  0.10  0.0  0.1  1554.00               NaN     1.0   \n",
       "794067        8.10  0.10  0.0  0.1  1554.00               NaN     0.0   \n",
       "794068        6.40  0.10  0.0  0.1  1651.00               NaN     0.0   \n",
       "...            ...   ...  ...  ...      ...               ...     ...   \n",
       "1028709      21.05  0.00  0.0  0.0    23.56               NaN     1.0   \n",
       "1028710       0.26  0.00  0.0  0.0   434.22               NaN     1.0   \n",
       "1028711      20.21  0.00  0.0  0.0     4.83               NaN     0.0   \n",
       "1028712      27.25  0.35  0.0  0.0     6.38               NaN     1.0   \n",
       "1028713      21.62  0.00  0.0  0.0     1.46               NaN     0.0   \n",
       "\n",
       "             Fecha Analisis  \n",
       "Nro.Muestra                  \n",
       "794064           2020-01-04  \n",
       "794065           2020-01-04  \n",
       "794066           2020-01-04  \n",
       "794067           2020-01-04  \n",
       "794068           2020-01-04  \n",
       "...                     ...  \n",
       "1028709          2023-06-27  \n",
       "1028710          2023-06-27  \n",
       "1028711          2023-06-27  \n",
       "1028712          2023-06-27  \n",
       "1028713          2023-06-27  \n",
       "\n",
       "[5259 rows x 48 columns]"
      ]
     },
     "execution_count": 90,
     "metadata": {},
     "output_type": "execute_result"
    }
   ],
   "source": [
    "df_consolidado[df_consolidado['Faena']=='Ministro Hales']"
   ]
  },
  {
   "cell_type": "code",
   "execution_count": 91,
   "metadata": {},
   "outputs": [
    {
     "data": {
      "text/plain": [
       "array(['D275AX-5EO', 'D375A-5', 'D475A-5E0', '830E-AC', 'GD825A-2',\n",
       "       '730E', 'WD600-3', 'PC600LC-8', 'WA1200-6', 'WA1200-3', 'HD785-7',\n",
       "       'D375A-6R', 'PC5500-6'], dtype=object)"
      ]
     },
     "execution_count": 91,
     "metadata": {},
     "output_type": "execute_result"
    }
   ],
   "source": [
    "df_consolidado[(df_consolidado.Faena == 'Qblanca')].Flota.unique()"
   ]
  },
  {
   "cell_type": "code",
   "execution_count": 92,
   "metadata": {},
   "outputs": [
    {
     "data": {
      "text/plain": [
       "array([906.0, '906.0', '904.0'], dtype=object)"
      ]
     },
     "execution_count": 92,
     "metadata": {},
     "output_type": "execute_result"
    }
   ],
   "source": [
    "df_consolidado[(df_consolidado.Faena == 'Qblanca') & (df_consolidado.Flota=='PC5500-6')].Equipo.unique()"
   ]
  }
 ],
 "metadata": {
  "kernelspec": {
   "display_name": "Python 3",
   "language": "python",
   "name": "python3"
  },
  "language_info": {
   "codemirror_mode": {
    "name": "ipython",
    "version": 3
   },
   "file_extension": ".py",
   "mimetype": "text/x-python",
   "name": "python",
   "nbconvert_exporter": "python",
   "pygments_lexer": "ipython3",
   "version": "3.11.3"
  },
  "orig_nbformat": 4
 },
 "nbformat": 4,
 "nbformat_minor": 2
}
