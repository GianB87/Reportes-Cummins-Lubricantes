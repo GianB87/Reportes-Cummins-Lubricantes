{
 "cells": [
  {
   "attachments": {},
   "cell_type": "markdown",
   "metadata": {},
   "source": [
    "- [ ] Combinar esperanza con esperanza norte\n",
    "\n",
    "- [ ] Resolver problemas con la flota\n",
    "\n",
    "- [x] Considerar posicion\n"
   ]
  },
  {
   "cell_type": "code",
   "execution_count": 25,
   "metadata": {},
   "outputs": [],
   "source": [
    "import datetime as dt\n",
    "import pandas as pd\n",
    "import numpy as np\n",
    "\n",
    "import matplotlib.pyplot as plt\n",
    "%matplotlib inline\n",
    "from matplotlib.backends.backend_pdf import PdfPages as pdf\n",
    "import seaborn as sns\n",
    "sns.set_style(\"darkgrid\")\n",
    "\n",
    "import requests \n",
    "import json\n",
    "import importlib\n",
    "import re\n",
    "import xlsxwriter\n",
    "\n",
    "import warnings\n",
    "warnings.simplefilter(action='ignore', category=FutureWarning)\n",
    "\n",
    "import sys\n",
    "import os\n",
    "\n",
    "ruta_archivo = os.getcwd()\n",
    "ruta_base =os.path.dirname(ruta_archivo)"
   ]
  },
  {
   "attachments": {},
   "cell_type": "markdown",
   "metadata": {},
   "source": [
    "## Parametros"
   ]
  },
  {
   "cell_type": "code",
   "execution_count": 26,
   "metadata": {},
   "outputs": [],
   "source": [
    "zona_sur = ['Andina', 'Antucoya', 'Caserones','Cerro Negro Norte', 'Lomas Bayas', 'Los Pelambres']\n",
    "zona_norte = ['Radomiro Tomic','Sierra Gorda', 'Gaby', 'Quebrada Blanca', 'Collahuasi',\n",
    "    'Ministro Hales', 'Chuquicamata', 'SPENCE','Centinela']\n",
    "todos = zona_norte + zona_sur\n"
   ]
  },
  {
   "cell_type": "code",
   "execution_count": 27,
   "metadata": {},
   "outputs": [],
   "source": [
    "# ['Los Pelambres', 'Andina', 'Radomiro Tomic', 'Cerro Negro Norte','Sierra Gorda', 'Gaby', 'Quebrada Blanca', 'Collahuasi', 'Caserones',\n",
    "# 'Ministro Hales', 'Chuquicamata', 'Antucoya','SPENCE', 'Lomas Bayas', 'Centinela']\n",
    "faenas = zona_sur\n",
    "intervalo= 28 #dias\n",
    "\n",
    "carpeta_resumen = '/../02_Archivos/Resumenes'\n",
    "\n",
    "decoracion_alerta = False"
   ]
  },
  {
   "cell_type": "code",
   "execution_count": 28,
   "metadata": {},
   "outputs": [],
   "source": [
    "#  'Visc.40', 'Visc 100'\n",
    "viscosidad = ['Visc 100']\n",
    "# 'AL','CR','CU','FE','NI','PB', 'SN'\n",
    "desgaste = ['AL','CR','CU','FE','NI','PB']\n",
    "# 'K','NA','SI'\n",
    "contaminacion = ['K','NA','SI']\n",
    "# 'B','CA','MG','MO','P','ZN'\n",
    "aditivos = ['B','CA','MG','MO','P','ZN']\n",
    "# 'Diluc.','Agua','TBN','Hollin','Oxid.', 'Nitrac.', 'Sulf.','Ind.PQ.'\n",
    "fisico_quimico = ['Diluc.','Agua','TBN','Hollin','Oxid.', 'Nitrac.', 'Sulf.','Ind.PQ.']\n",
    "\n",
    "elementos = viscosidad + desgaste + contaminacion + aditivos + fisico_quimico\n",
    "\n",
    "faenas_centinela = ['Esperanza', 'Esperanza Sur']"
   ]
  },
  {
   "cell_type": "code",
   "execution_count": 29,
   "metadata": {},
   "outputs": [],
   "source": [
    "today = dt.date.today()\n",
    "hoy = today.strftime('%Y-%m-%d')\n",
    "desde = (today- dt.timedelta(intervalo))"
   ]
  },
  {
   "cell_type": "code",
   "execution_count": 30,
   "metadata": {},
   "outputs": [],
   "source": [
    "guardar_resumen = os.path.abspath(ruta_base + carpeta_resumen)\n",
    "\n",
    "carpeta_scaa = 'DatosScaa'\n",
    "carpeta_scaa = os.path.abspath(ruta_base + '/../02_Archivos/' + carpeta_scaa)\n",
    "carpeta_limites = 'DatosLimites'\n",
    "carpeta_limites = os.path.abspath(ruta_base + '/../02_Archivos/' + carpeta_limites)"
   ]
  },
  {
   "attachments": {},
   "cell_type": "markdown",
   "metadata": {},
   "source": [
    "## Datos de Limites"
   ]
  },
  {
   "cell_type": "code",
   "execution_count": 31,
   "metadata": {},
   "outputs": [],
   "source": [
    "# Leer limites condenatorios\n",
    "datos_limites = pd.read_csv(carpeta_limites +'\\\\limites.csv',keep_default_na=False)\n",
    "limites = datos_limites.copy()\n",
    "\n",
    "\n",
    "limites['desde'] = pd.to_datetime(limites['desde'])  \n",
    "limites['hasta'] = pd.to_datetime(limites['hasta']) \n",
    "\n",
    "limites = limites[limites.limitecritico.astype(bool)]\n",
    "\n"
   ]
  },
  {
   "attachments": {},
   "cell_type": "markdown",
   "metadata": {},
   "source": [
    "## Datos Scaa"
   ]
  },
  {
   "cell_type": "code",
   "execution_count": 32,
   "metadata": {},
   "outputs": [],
   "source": [
    "datos_scaa = pd.read_csv(carpeta_scaa + '\\\\consolidado_scaa.csv', index_col='Nro.Muestra')"
   ]
  },
  {
   "cell_type": "code",
   "execution_count": 33,
   "metadata": {},
   "outputs": [],
   "source": [
    "scaa = datos_scaa.copy()\n",
    "scaa['Fecha Muestra'] = pd.to_datetime(scaa['Fecha Muestra'])\n",
    "scaa['Fecha Cambio Aceite'] = pd.to_datetime(scaa['Fecha Muestra'])\n",
    "scaa['Fecha Analisis'] = pd.to_datetime(scaa['Fecha Analisis'])\n",
    "filtro_fecha_scaa = (scaa['Fecha Muestra'] > desde.strftime('%Y-%m-%d')) \n",
    "scaa = scaa.loc[filtro_fecha_scaa]\n",
    "scaa = scaa[scaa.Componente == 'Motor Diesel']\n",
    "scaa['Consideraciones'] = \"\"\n",
    "scaa.Faena.replace(faenas_centinela,'Centinela', inplace=True)\n",
    "scaa.Faena.replace('Qblanca','Quebrada Blanca', inplace=True)\n",
    "\n",
    "scaa['Equipo'] = scaa['Equipo'].str.replace('.0', '')\n",
    "scaa['Equipo'] = pd.Series(scaa['Equipo'], dtype=\"string\")\n",
    "\n",
    "scaa = scaa[['Alerta','Faena','Flota','Laboratorio','Nombre Aceite','Equipo','Posición','Fecha Muestra','Horas Aceite','Fecha Cambio Aceite','Intervalo Cambio de Aceite','Consideraciones'] + elementos]\n",
    "scaa.sort_values(['Flota','Equipo','Posición','Fecha Muestra'],inplace=True,ascending=[True, True, True,False])\n"
   ]
  },
  {
   "cell_type": "code",
   "execution_count": 34,
   "metadata": {},
   "outputs": [
    {
     "data": {
      "text/plain": [
       "Index(['Faena', 'Laboratorio', 'Flota', 'Equipo', 'Componente', 'Posición',\n",
       "       'Fecha Muestra', 'Horas Aceite', 'Fecha Cambio Aceite',\n",
       "       'Horas Aceite Actual', 'Horometro Cambio Aceite',\n",
       "       'Intervalo Cambio de Aceite', 'Desviación en mantención',\n",
       "       'Nombre Aceite', 'Visc.40', 'Visc 100', 'Pto.Infl.', 'Diluc.', 'Agua',\n",
       "       'TBN', 'TAN', 'Hollin', 'Oxid.', 'Nitrac.', 'Sulf.', 'Ind.PQ.', 'AG',\n",
       "       'AL', 'B', 'CA', 'CR', 'CU', 'FE', 'K', 'MG', 'MO', 'NA', 'NI', 'P',\n",
       "       'PB', 'SI', 'SN', 'TI', 'V', 'ZN', 'Respuesta Alerta', 'Alerta',\n",
       "       'Fecha Analisis'],\n",
       "      dtype='object')"
      ]
     },
     "execution_count": 34,
     "metadata": {},
     "output_type": "execute_result"
    }
   ],
   "source": [
    "datos_scaa.columns"
   ]
  },
  {
   "cell_type": "code",
   "execution_count": 35,
   "metadata": {},
   "outputs": [
    {
     "data": {
      "text/plain": [
       "array(['Quebrada Blanca', 'Cerro Negro Norte', 'Radomiro Tomic',\n",
       "       'Los Pelambres', 'Collahuasi', 'Andina', 'Caserones',\n",
       "       'Ministro Hales', 'Gaby', 'Antucoya', 'Sierra Gorda', 'Centinela',\n",
       "       'Lomas Bayas', 'SPENCE', 'Chuquicamata'], dtype=object)"
      ]
     },
     "execution_count": 35,
     "metadata": {},
     "output_type": "execute_result"
    }
   ],
   "source": [
    "scaa.Faena.unique()"
   ]
  },
  {
   "cell_type": "code",
   "execution_count": null,
   "metadata": {},
   "outputs": [],
   "source": []
  },
  {
   "cell_type": "code",
   "execution_count": 36,
   "metadata": {},
   "outputs": [],
   "source": [
    "def conseguir_limites(limites):\n",
    "    limites_criticos = []\n",
    "    limites_precaucion = []\n",
    "    for elemento in elementos:\n",
    "        temp_limites = limites.copy()[limites.copy().elemento == elemento]\n",
    "        if temp_limites.empty:\n",
    "            limites_criticos.append(\"\")\n",
    "            limites_precaucion.append(\"\")\n",
    "        else:\n",
    "            if temp_limites.iloc[temp_limites[\"desde\"].argmax()]['limiteprecaucion'] !='':\n",
    "                l_critico = float(temp_limites.iloc[temp_limites[\"desde\"].argmax()]['limitecritico'])\n",
    "                l_precaucion = float(temp_limites.iloc[temp_limites[\"desde\"].argmax()]['limiteprecaucion'])\n",
    "                limites_criticos.append(round(l_critico,2))\n",
    "                limites_precaucion.append(round(l_precaucion,2))\n",
    "    return (limites_criticos, limites_precaucion)"
   ]
  },
  {
   "cell_type": "code",
   "execution_count": 37,
   "metadata": {},
   "outputs": [],
   "source": [
    "def draw_frame_border(workbook, worksheet, first_row, first_col, rows_count, cols_count,thickness=1):\n",
    "    if cols_count == 1 and rows_count == 1:\n",
    "        # whole cell\n",
    "        worksheet.conditional_format(first_row, first_col,\n",
    "                                     first_row, first_col,\n",
    "                                     {'type': 'formula', 'criteria': 'True',\n",
    "                                     'format': workbook.add_format({'top': thickness, 'bottom':thickness,\n",
    "                                                                    'left': thickness,'right':thickness})})    \n",
    "    elif rows_count == 1:\n",
    "        # left cap\n",
    "        worksheet.conditional_format(first_row, first_col,\n",
    "                                 first_row, first_col,\n",
    "                                 {'type': 'formula', 'criteria': 'True',\n",
    "                                  'format': workbook.add_format({'top': thickness, 'left': thickness,'bottom':thickness})})\n",
    "        # top and bottom sides\n",
    "        worksheet.conditional_format(first_row, first_col + 1,\n",
    "                                 first_row, first_col + cols_count - 2,\n",
    "                                 {'type': 'formula', 'criteria': 'True', 'format': workbook.add_format({'top': thickness,'bottom':thickness})})\n",
    "\n",
    "        # right cap\n",
    "        worksheet.conditional_format(first_row, first_col+ cols_count - 1,\n",
    "                                 first_row, first_col+ cols_count - 1,\n",
    "                                 {'type': 'formula', 'criteria': 'True',\n",
    "                                  'format': workbook.add_format({'top': thickness, 'right': thickness,'bottom':thickness})})\n",
    "\n",
    "    elif cols_count == 1:\n",
    "        # top cap\n",
    "        worksheet.conditional_format(first_row, first_col,\n",
    "                                 first_row, first_col,\n",
    "                                 {'type': 'formula', 'criteria': 'True',\n",
    "                                  'format': workbook.add_format({'top': thickness, 'left': thickness,'right':thickness})})\n",
    "\n",
    "        # left and right sides\n",
    "        worksheet.conditional_format(first_row + 1,              first_col,\n",
    "                                 first_row + rows_count - 2, first_col,\n",
    "                                 {'type': 'formula', 'criteria': 'True', 'format': workbook.add_format({'left': thickness,'right':thickness})})\n",
    "\n",
    "        # bottom cap\n",
    "        worksheet.conditional_format(first_row + rows_count - 1, first_col,\n",
    "                                 first_row + rows_count - 1, first_col,\n",
    "                                 {'type': 'formula', 'criteria': 'True',\n",
    "                                  'format': workbook.add_format({'bottom': thickness, 'left': thickness,'right':thickness})})\n",
    "\n",
    "    else:\n",
    "        # top left corner\n",
    "        worksheet.conditional_format(first_row, first_col,\n",
    "                                 first_row, first_col,\n",
    "                                 {'type': 'formula', 'criteria': 'True',\n",
    "                                  'format': workbook.add_format({'top': thickness, 'left': thickness})})\n",
    "\n",
    "        # top right corner\n",
    "        worksheet.conditional_format(first_row, first_col + cols_count - 1,\n",
    "                                 first_row, first_col + cols_count - 1,\n",
    "                                 {'type': 'formula', 'criteria': 'True',\n",
    "                                  'format': workbook.add_format({'top': thickness, 'right': thickness})})\n",
    "\n",
    "        # bottom left corner\n",
    "        worksheet.conditional_format(first_row + rows_count - 1, first_col,\n",
    "                                 first_row + rows_count - 1, first_col,\n",
    "                                 {'type': 'formula', 'criteria': 'True',\n",
    "                                  'format': workbook.add_format({'bottom': thickness, 'left': thickness})})\n",
    "\n",
    "        # bottom right corner\n",
    "        worksheet.conditional_format(first_row + rows_count - 1, first_col + cols_count - 1,\n",
    "                                 first_row + rows_count - 1, first_col + cols_count - 1,\n",
    "                                 {'type': 'formula', 'criteria': 'True',\n",
    "                                  'format': workbook.add_format({'bottom': thickness, 'right': thickness})})\n",
    "\n",
    "        # top\n",
    "        worksheet.conditional_format(first_row, first_col + 1,\n",
    "                                     first_row, first_col + cols_count - 2,\n",
    "                                     {'type': 'formula', 'criteria': 'True', 'format': workbook.add_format({'top': thickness})})\n",
    "\n",
    "        # left\n",
    "        worksheet.conditional_format(first_row + 1,              first_col,\n",
    "                                     first_row + rows_count - 2, first_col,\n",
    "                                     {'type': 'formula', 'criteria': 'True', 'format': workbook.add_format({'left': thickness})})\n",
    "\n",
    "        # bottom\n",
    "        worksheet.conditional_format(first_row + rows_count - 1, first_col + 1,\n",
    "                                     first_row + rows_count - 1, first_col + cols_count - 2,\n",
    "                                     {'type': 'formula', 'criteria': 'True', 'format': workbook.add_format({'bottom': thickness})})\n",
    "\n",
    "        # right\n",
    "        worksheet.conditional_format(first_row + 1,              first_col + cols_count - 1,\n",
    "                                     first_row + rows_count - 2, first_col + cols_count - 1,\n",
    "                                     {'type': 'formula', 'criteria': 'True', 'format': workbook.add_format({'right': thickness})})"
   ]
  },
  {
   "cell_type": "code",
   "execution_count": 38,
   "metadata": {},
   "outputs": [],
   "source": [
    "def formato_limites_columnas(lp,lc, formato_precaucion,formato_critico, viscosidad,desgaste,contaminacion,aditivos, fisico_quimico_sin_tbn,fila_prec,fila_crit,columna_elemento):\n",
    "    col_lim = xlsxwriter.utility.xl_col_to_name(columna_elemento)\n",
    "    pos_lp = '$' + col_lim + '$' +str(fila_prec + 1)\n",
    "    pos_lc = '$' + col_lim + '$' +str(fila_crit + 1)\n",
    "    if elemento in viscosidad:\n",
    "        lp_real = min(lp,lc)\n",
    "        lc_real = max(lp,lc)\n",
    "        condicion_prec = {'type':'cell','criteria': '<=','value': pos_lp,'format': formato_critico}\n",
    "        condicion_crit = {'type':'cell','criteria': '>=','value': pos_lc,'format': formato_critico}\n",
    "    elif elemento in desgaste + contaminacion + fisico_quimico_sin_tbn:\n",
    "        lp_real = min(lp,lc)\n",
    "        lc_real = max(lp,lc)\n",
    "        condicion_prec = {'type':'cell','criteria': '>=','value': pos_lp,'format': formato_precaucion}\n",
    "        condicion_crit = {'type':'cell','criteria': '>=','value': pos_lc,'format': formato_critico}\n",
    "    elif elemento in aditivos + ['TBN']:\n",
    "        lp_real = max(lp,lc)\n",
    "        lc_real = min(lp,lc)\n",
    "        condicion_prec = {'type':'cell','criteria': '<=','value': pos_lp,'format': formato_precaucion}\n",
    "        condicion_crit = {'type':'cell','criteria': '<=','value': pos_lc,'format': formato_critico}\n",
    "    return lp_real,lc_real,condicion_prec,condicion_crit"
   ]
  },
  {
   "cell_type": "code",
   "execution_count": 39,
   "metadata": {},
   "outputs": [],
   "source": [
    "def columnas_unico_valor(scaa_flota, revisar_columnas):\n",
    "    # Datos que son unicos de la tabla\n",
    "    titulos = []\n",
    "    valor = []\n",
    "    for col in scaa_flota.columns:\n",
    "        if col in revisar_columnas:\n",
    "            lista = scaa_flota[col].unique()\n",
    "            if len(lista) == 1:\n",
    "                titulos.append(col)\n",
    "                valor.append(lista[0])\n",
    "    return titulos, valor"
   ]
  },
  {
   "cell_type": "code",
   "execution_count": 40,
   "metadata": {},
   "outputs": [
    {
     "data": {
      "text/plain": [
       "array(['930E-4SE', '930E-4', 'D475A-5E0', 'GD825A-2', '930E-3',\n",
       "       'PC5500-6DB', 'WD600-6R', 'HD785-7', 'WA500-6', '980E-4', '980E-5',\n",
       "       'PC5500-6', '930E-5', 'PC5500-6D', 'WA1200-6', 'WA1200-3',\n",
       "       'WD900-3', 'WA600-6', 'D375A-6R', 'PC600LC-8', '830E-AC',\n",
       "       'WD600-3', 'D475A-5', 'PC8000-6FSE', '930E-3SE', 'PC8000-6D',\n",
       "       'PC8000-6E', 'PC300LC-8', 'HD605-7', 'PC300-8', 'WA250-6',\n",
       "       'PC4000-6BHD', '960E-2K', 'PC8000-6F', 'D375A-5', 'WA470-5',\n",
       "       'WD900-3A', 'D275AX-5EO', '830E', 'WA500-6R', '730E', 'PC600LC-8E',\n",
       "       '930E', 'PC450LC-8', 'D475A-8R'], dtype=object)"
      ]
     },
     "execution_count": 40,
     "metadata": {},
     "output_type": "execute_result"
    }
   ],
   "source": [
    "datos_scaa.Flota.unique()"
   ]
  },
  {
   "cell_type": "code",
   "execution_count": 41,
   "metadata": {},
   "outputs": [],
   "source": [
    "estilo_critico = {'bg_color': '#EC0000','font_color': '#FFFFFF','bold':True}\n",
    "estilo_precaucion = {'bg_color': '#FFFF00','font_color': '#000000','bold':True}\n",
    "estilo_alerta = {'bg_color': '#fff0c7','font_color': '#000000'}\n",
    "# #E3001B\n",
    "estilo_cummins = {'bg_color': '#E3001B'}\n",
    "\n",
    "estilo_cabecera = {'bg_color': '#000000','font_color': '#FFFFFF','bold':True,'num_format': '@'}\n",
    "estilo_texto = {'num_format': '@'}"
   ]
  },
  {
   "cell_type": "code",
   "execution_count": 43,
   "metadata": {},
   "outputs": [],
   "source": [
    "# Parametros Base\n",
    "# Posicion tabla scaa\n",
    "inicio_col_scaa = 1\n",
    "inicio_fila_scaa = 5 # min 4\n",
    "\n",
    "# Tabla Gerenales\n",
    "gen_espacio_top = 1\n",
    "gen_espacio_left = 2\n",
    "\n",
    "# Posicion tabla limites\n",
    "fila_prec = inicio_fila_scaa-2\n",
    "fila_crit = inicio_fila_scaa-1\n",
    "\n",
    "specific_case_930 = '^(?=.*(?:930.*E))(?!.*(?:930.*SE))'\n",
    "\n",
    "fisico_quimico_sin_tbn = list(fisico_quimico)\n",
    "fisico_quimico_sin_tbn.remove('TBN')\n",
    "revision_columnas_unicas = ['Faena','Flota','Laboratorio','Nombre Aceite','Posición']\n",
    "\n",
    "for faena in faenas:\n",
    "    limites_faena = limites.copy()[limites.faena == faena]\n",
    "\n",
    "    \n",
    "\n",
    "    lista_flotas = limites_faena.flota.unique()\n",
    "    filtro_flotas = '|'.join([x.replace(\" \", \".*\") for x in lista_flotas])\n",
    "\n",
    "    scaa_faena = scaa.copy()[scaa.Faena == faena]\n",
    "    scaa_faena = scaa_faena[scaa_faena.Flota.str.contains(filtro_flotas)]\n",
    "\n",
    "    nombre_excel = guardar_resumen+'/Revisión '+faena+\" \"+hoy+'.xlsx'\n",
    "    # Crear excel\n",
    "    writer = pd.ExcelWriter(nombre_excel,engine=\"xlsxwriter\",date_format='dd/mm/yyyy',datetime_format='dd/mm/yyyy')\n",
    "\n",
    "    workbook  = writer.book\n",
    "\n",
    "    # estilo por defecto a utilizar\n",
    "    formato_critico = workbook.add_format(estilo_critico)\n",
    "    formato_precaucion = workbook.add_format(estilo_precaucion)\n",
    "    formato_alerta = workbook.add_format(estilo_alerta)\n",
    "    formato_cabecera = workbook.add_format(estilo_cabecera)\n",
    "    formato_texto = workbook.add_format(estilo_texto) \n",
    "\n",
    "    formato_cummins = workbook.add_format(estilo_cummins)                        \n",
    "\n",
    "    for flota in lista_flotas:\n",
    "        # Parametros de hoja\n",
    "        nombre_hoja = \"Reporte \" + flota\n",
    "\n",
    "        \n",
    "\n",
    "        if flota == '930 E':\n",
    "            filtro_flota_regex = specific_case_930\n",
    "        else:\n",
    "            filtro_flota_regex = flota.replace(\" \", \".*\")\n",
    "        # Datos Scaa\n",
    "        scaa_flota = scaa_faena.copy()[scaa_faena.Flota.str.contains(filtro_flota_regex)]\n",
    "\n",
    "        if not scaa_flota.empty:\n",
    "            # Intervalo cambio aceite\n",
    "            intervalo_aceite = scaa_flota['Intervalo Cambio de Aceite'].copy()\n",
    "            # scaa_flota.rename(columns = {'Intervalo Cambio de Aceite':'Int. Cambio'}, inplace = True)\n",
    "            scaa_flota.drop(columns=['Intervalo Cambio de Aceite','Fecha Cambio Aceite','Nombre Aceite'], inplace=True)\n",
    "\n",
    "            titulos, valor = columnas_unico_valor(scaa_flota, revision_columnas_unicas)\n",
    "            # Adjunta la tabla de scaa al excel\n",
    "            # Ordenar los equipos recientemente alertados y ponerlos en el top\n",
    "\n",
    "            # Generar lista de equipos ordenados\n",
    "            filtrar_equipo_ultima_alerta = scaa_flota.groupby('Equipo')['Fecha Muestra'].transform('max').eq(scaa_flota['Fecha Muestra'])\n",
    "            df_equipo_ultima_alerta = scaa_flota[filtrar_equipo_ultima_alerta].sort_values(by=['Alerta'], ascending=[False])\n",
    "\n",
    "            ultimos_equipos_alertados = df_equipo_ultima_alerta[df_equipo_ultima_alerta.Alerta == 1].sort_values(by=['Fecha Muestra','Equipo'], ascending=[False,True]).Equipo.tolist()\n",
    "            ultimos_equipos_no_alertados = df_equipo_ultima_alerta[df_equipo_ultima_alerta.Alerta == 0].sort_values(by=['Equipo'], ascending=[True]).Equipo.tolist()\n",
    "            orden_equipos = ultimos_equipos_alertados + ultimos_equipos_no_alertados\n",
    "            orden_equipos = list(dict.fromkeys(orden_equipos))\n",
    "\n",
    "            # ordenar tabla de datos\n",
    "            scaa_flota['Equipo'] = pd.Categorical(scaa_flota['Equipo'], ordered=True, categories=orden_equipos)\n",
    "            scaa_flota.sort_values(by=['Equipo','Posición','Fecha Muestra'], ascending=[True,True,False], inplace=True)\n",
    "            scaa_flota['Equipo'] = pd.Series(scaa_flota['Equipo'], dtype=\"string\")\n",
    "\n",
    "            #intervalo_equipos = scaa_flota.Equipo.value_counts().sort_index()\n",
    "            #intervalo_equipos = (scaa_flota.Equipo + scaa_flota.Posición).value_counts().sort_index()\n",
    "            intervalo_equipos =scaa_flota.groupby(['Equipo','Posición'], sort=False)['Equipo'].count()\n",
    "            \n",
    "            scaa_flota = scaa_flota.drop(columns=titulos)\n",
    "\n",
    "            scaa_flota.to_excel(writer, sheet_name=nombre_hoja,startcol=inicio_col_scaa, startrow=inicio_fila_scaa,index=False)\n",
    "            \n",
    "            # Inicializacion variables\n",
    "            worksheet = writer.sheets[nombre_hoja]\n",
    "            img_scale = 0.23\n",
    "            worksheet.insert_image(0,inicio_col_scaa, 'logo_cummins_chile.jpg',{'x_scale':img_scale, 'y_scale': img_scale})\n",
    "            \n",
    "            # Posiciones relativas a tabla scaa\n",
    "            # posiciones SCAA\n",
    "            scaa_filas = len(scaa_flota)\n",
    "            scaa_columnas = scaa_flota.columns\n",
    "            final_col = inicio_col_scaa + len(scaa_columnas) - 1\n",
    "\n",
    "            # numero de la posicion del elemento inicial en dataframe scaa \n",
    "            posicion_inicial = scaa_flota.columns.get_loc(elementos[0])\n",
    "            # posicion real del elemento inicial en la hoja de excel\n",
    "            columna_inicial_elementos = inicio_col_scaa + posicion_inicial\n",
    "            \n",
    "            # posiciones para el largo de los datos de scaa\n",
    "            fila_inicial_elemento = inicio_fila_scaa + 1\n",
    "            fila_final_elemento = inicio_fila_scaa + scaa_filas\n",
    "            \n",
    "            # Formato condicional a tabla de scaa\n",
    "            # Datos Limites\n",
    "            limites_flota = limites_faena.copy()[limites_faena.flota == flota]\n",
    "            limites_criticos, limites_precaucion = conseguir_limites(limites_flota)\n",
    "        \n",
    "            # tabla limites\n",
    "            # Titulos de las filas de limite\n",
    "            worksheet.write(fila_prec,columna_inicial_elementos-1, \"Limites Precaución\",formato_precaucion)\n",
    "            worksheet.write(fila_crit,columna_inicial_elementos-1, \"Limites Emergencia\",formato_critico)\n",
    "            \n",
    "            # Valores de tabla de limites + formato condicional de tabla scaa \n",
    "            for i, (elemento,lc,lp) in enumerate(list(zip(elementos,limites_criticos, limites_precaucion))):\n",
    "                # posicion de la columna del elemento en tabla scaa \n",
    "                columna_elemento = scaa_flota.columns.get_loc(elemento) + inicio_col_scaa\n",
    "                # \n",
    "                lp_real,lc_real,condicion_prec,condicion_crit = formato_limites_columnas(lp,lc, formato_precaucion,formato_critico, \n",
    "                                                                viscosidad,desgaste,contaminacion,aditivos, fisico_quimico_sin_tbn,fila_prec,fila_crit,columna_elemento)\n",
    "            \n",
    "                worksheet.write(fila_prec, columna_inicial_elementos+i, lp_real,formato_precaucion)\n",
    "                worksheet.write(fila_crit,columna_inicial_elementos+i, lc_real,formato_critico)\n",
    "            \n",
    "                worksheet.conditional_format(fila_inicial_elemento, columna_elemento, fila_final_elemento, columna_elemento,condicion_crit)\n",
    "                worksheet.conditional_format(fila_inicial_elemento, columna_elemento, fila_final_elemento, columna_elemento,condicion_prec)\n",
    "\n",
    "            \n",
    "\n",
    "            worksheet.autofit()\n",
    "\n",
    "\n",
    "            \n",
    "            # tabla datos generales\n",
    "            for i in range(inicio_fila_scaa):\n",
    "                titulo_tabla = \"\"\n",
    "                valor_tabla = \"\"\n",
    "                if i in range(gen_espacio_top,len(titulos)+gen_espacio_top):\n",
    "                    index = i - gen_espacio_top\n",
    "                    if titulos[index] != 'Posición':\n",
    "                        titulo_tabla = titulos[index]\n",
    "                        valor_tabla = valor[index]\n",
    "                tabla_espacio_left = inicio_col_scaa + gen_espacio_left\n",
    "                # titulos\n",
    "                worksheet.write(i, tabla_espacio_left, titulo_tabla,formato_cabecera)\n",
    "                # worksheet.merge_range(i+gen_espacio_top, tabla_espacio_left, i+gen_espacio_top, tabla_espacio_left+1, titulos[i],formato_cabecera)\n",
    "                # valores\n",
    "                worksheet.write(i, tabla_espacio_left + 1, valor_tabla, formato_texto)\n",
    "                # worksheet.merge_range(i+gen_espacio_top, tabla_espacio_left + 1, i+gen_espacio_top, tabla_espacio_left+2, valor[i], formato_texto)\n",
    "                for j in range(inicio_col_scaa,tabla_espacio_left):\n",
    "                    worksheet.write(i, j, \"\", formato_cummins)\n",
    "                \n",
    "\n",
    "            # Colorea alertas si es 1 == fue alertada por scaa\n",
    "            if decoracion_alerta:\n",
    "                posicion_alerta = scaa_flota.columns.get_loc('Alerta')\n",
    "                for i in range(1,scaa_filas+1):\n",
    "                    col_alerta = xlsxwriter.utility.xl_col_to_name(posicion_alerta + inicio_col_scaa)\n",
    "                    worksheet.conditional_format(inicio_fila_scaa + i, inicio_col_scaa, inicio_fila_scaa  + i, final_col, {'type': 'formula',\n",
    "                                                    'criteria': '=$' + col_alerta + str(i + fila_inicial_elemento) + '=1',\n",
    "                                                    'format': formato_alerta})\n",
    "\n",
    "            # crea borde para diferenciar entre los equipos\n",
    "            counter = fila_inicial_elemento\n",
    "            for cant in intervalo_equipos:\n",
    "                draw_frame_border(workbook, worksheet, counter, inicio_col_scaa, cant, final_col,5)\n",
    "                counter +=cant\n",
    "\n",
    "            # inmoviliza paneles\n",
    "            worksheet.freeze_panes(fila_inicial_elemento, columna_inicial_elementos)\n",
    "    writer.close()"
   ]
  },
  {
   "cell_type": "code",
   "execution_count": null,
   "metadata": {},
   "outputs": [
    {
     "name": "stdout",
     "output_type": "stream",
     "text": [
      "1\n",
      "2\n"
     ]
    }
   ],
   "source": [
    "for j in range(inicio_col_scaa,tabla_espacio_left):\n",
    "    print(j)"
   ]
  },
  {
   "cell_type": "code",
   "execution_count": null,
   "metadata": {},
   "outputs": [
    {
     "data": {
      "text/plain": [
       "3"
      ]
     },
     "execution_count": 21,
     "metadata": {},
     "output_type": "execute_result"
    }
   ],
   "source": [
    "tabla_espacio_left"
   ]
  },
  {
   "cell_type": "code",
   "execution_count": null,
   "metadata": {},
   "outputs": [
    {
     "data": {
      "text/plain": [
       "1"
      ]
     },
     "execution_count": 22,
     "metadata": {},
     "output_type": "execute_result"
    }
   ],
   "source": [
    "inicio_col_scaa"
   ]
  },
  {
   "cell_type": "code",
   "execution_count": null,
   "metadata": {},
   "outputs": [
    {
     "name": "stdout",
     "output_type": "stream",
     "text": [
      "1\n",
      "2\n",
      "3\n",
      "4\n"
     ]
    }
   ],
   "source": [
    "for i in range(inicio_fila_scaa):\n",
    "    if i in range(gen_espacio_top,len(titulos)+gen_espacio_top):\n",
    "        print(i)"
   ]
  },
  {
   "cell_type": "code",
   "execution_count": null,
   "metadata": {},
   "outputs": [],
   "source": [
    "fisico_quimico_sin_tbn.remove('TBN')"
   ]
  },
  {
   "cell_type": "code",
   "execution_count": null,
   "metadata": {},
   "outputs": [
    {
     "data": {
      "text/plain": [
       "4"
      ]
     },
     "execution_count": 25,
     "metadata": {},
     "output_type": "execute_result"
    }
   ],
   "source": [
    "len(titulos)+gen_espacio_top"
   ]
  }
 ],
 "metadata": {
  "kernelspec": {
   "display_name": "Python 3",
   "language": "python",
   "name": "python3"
  },
  "language_info": {
   "codemirror_mode": {
    "name": "ipython",
    "version": 3
   },
   "file_extension": ".py",
   "mimetype": "text/x-python",
   "name": "python",
   "nbconvert_exporter": "python",
   "pygments_lexer": "ipython3",
   "version": "3.11.3"
  },
  "orig_nbformat": 4
 },
 "nbformat": 4,
 "nbformat_minor": 2
}
